{
 "cells": [
  {
   "cell_type": "markdown",
   "id": "4d9a555d",
   "metadata": {},
   "source": [
    "## Exercici 1"
   ]
  },
  {
   "cell_type": "markdown",
   "id": "dfaeefa3",
   "metadata": {},
   "source": [
    "Crea una llista que agrupi els mesos de l’any en trimestres (1T: gener, febrer i març; 2T: abril, maig, juny...), és a dir, una llista amb 4 llistes dins."
   ]
  },
  {
   "cell_type": "code",
   "execution_count": 1,
   "id": "7f98dcd1",
   "metadata": {},
   "outputs": [
    {
     "name": "stdout",
     "output_type": "stream",
     "text": [
      "1T: ['gener', 'febrer', 'març']\n",
      "2T: ['abril', 'maig', 'juny']\n",
      "3T: ['juliol', 'agost', 'setembre']\n",
      "4T: ['octubre', 'novembre', 'desembre']\n"
     ]
    }
   ],
   "source": [
    "mes = [\"gener\", \"febrer\", \"març\", \"abril\", \"maig\", \"juny\", \"juliol\", \"agost\", \"setembre\", \"octubre\", \"novembre\", \"desembre\"]\n",
    "\n",
    "trimestres = [mes[0:3], mes[3:6], mes[6:9], mes[9:12]]\n",
    "\n",
    "for i, trimestre in enumerate(trimestres, 1):\n",
    "    print(f\"{i}T:\", trimestre)"
   ]
  },
  {
   "cell_type": "markdown",
   "id": "0e10a402",
   "metadata": {},
   "source": [
    "## Exercici 2"
   ]
  },
  {
   "cell_type": "markdown",
   "id": "dd011605",
   "metadata": {},
   "source": [
    "Crea un codi que et permeti accedir a:\n",
    "\n",
    "El segon mes del primer trimestre.\n",
    "Els mesos del primer trimestre.\n",
    "Setembre i octubre."
   ]
  },
  {
   "cell_type": "code",
   "execution_count": 2,
   "id": "5c2dfb6c",
   "metadata": {},
   "outputs": [
    {
     "name": "stdout",
     "output_type": "stream",
     "text": [
      "El segon mes del primer trimestre: febrer\n",
      "Els mesos del primer trimestre: ['gener', 'febrer', 'març']\n",
      "Setembre i octubre: ['setembre', 'octubre']\n"
     ]
    }
   ],
   "source": [
    "mes = [\"gener\", \"febrer\", \"març\", \"abril\", \"maig\", \"juny\", \"juliol\", \"agost\", \"setembre\", \"octubre\", \"novembre\", \"desembre\"]\n",
    "\n",
    "trimestres = [mes[0:3], mes[3:6], mes[6:9], mes[9:12]]\n",
    "\n",
    "segon_mes_primer_trimestre = trimestres[0][1]\n",
    "\n",
    "mesos_primer_trimestre = trimestres[0]\n",
    "\n",
    "setembre_octubre = [mes[8], mes[9]]\n",
    "\n",
    "# Imprimir los resultados\n",
    "print(\"El segon mes del primer trimestre:\", segon_mes_primer_trimestre)\n",
    "print(\"Els mesos del primer trimestre:\", mesos_primer_trimestre)\n",
    "print(\"Setembre i octubre:\", setembre_octubre)"
   ]
  },
  {
   "cell_type": "markdown",
   "id": "0ff514ff",
   "metadata": {},
   "source": [
    "## Exercici 3"
   ]
  },
  {
   "cell_type": "markdown",
   "id": "09cd6309",
   "metadata": {},
   "source": [
    "Crea una llista amb nombres desordenats i respon a les següents preguntes:\n",
    "\n",
    "Quants números hi ha?\n",
    "Quantes vegades apareix el número 3.\n",
    "Quantes vegades apareixen els nombres 3 i 4?\n",
    "Quin és el número més gran?\n",
    "Quins són els 3 números més petits?\n",
    "Quin és el rang d’aquesta llista?"
   ]
  },
  {
   "cell_type": "code",
   "execution_count": 5,
   "id": "ffb1aff7",
   "metadata": {},
   "outputs": [
    {
     "name": "stdout",
     "output_type": "stream",
     "text": [
      "1. Quants números hi ha?  20\n",
      "2. Quantes vegades apareix el número 3: 3\n",
      "3. Quantes vegades apareixen els nombres 3 i 4? 5\n",
      "4. Quin és el número més gran?  9\n",
      "5. Quins són els 3 números més petits?  [1, 1, 2]\n",
      "6. Quin és el rang d’aquesta llista? 8\n"
     ]
    }
   ],
   "source": [
    "numeros_aleatoris = [7, 2, 5, 3, 8, 9, 2, 4, 3, 6, 1, 4, 3, 2, 9, 8, 7, 1, 5, 6]\n",
    "\n",
    "cantitat_numeros = len(numeros_aleatoris)\n",
    "\n",
    "vegades_tres = numeros_aleatoris.count(3)\n",
    "\n",
    "vegades_tres_quatre = numeros_aleatoris.count(3) + numeros_aleatoris.count(4)\n",
    "\n",
    "num_mes_gran = max(numeros_aleatoris)\n",
    "\n",
    "numeros_ordenats = sorted(numeros_aleatoris)\n",
    "tres_numeros_mes_petits = numeros_ordenats[:3]\n",
    "\n",
    "rang_llista = max(numeros_aleatoris) - min(numeros_aleatoris)\n",
    "\n",
    "\n",
    "print(\"1. Quants números hi ha? \", cantitat_numeros)\n",
    "print(\"2. Quantes vegades apareix el número 3:\", vegades_tres)\n",
    "print(\"3. Quantes vegades apareixen els nombres 3 i 4?\", vegades_tres_quatre)\n",
    "print(\"4. Quin és el número més gran? \", num_mes_gran)\n",
    "print(\"5. Quins són els 3 números més petits? \", tres_numeros_mes_petits)\n",
    "print(\"6. Quin és el rang d’aquesta llista?\", rang_llista)"
   ]
  },
  {
   "cell_type": "markdown",
   "id": "4d60ebff",
   "metadata": {},
   "source": [
    "## Exercici 4"
   ]
  },
  {
   "cell_type": "markdown",
   "id": "c0890a8d",
   "metadata": {},
   "source": [
    "Crea un diccionari de la següent forma i respon a les preguntes:\n",
    "\n",
    "compra = { \"Pomes\" : {\"Qty\": 5, \"€\": 0.42}, \"Peres\" : {\"Qty\": 3, \"€\": 0.66} }\n",
    "Afegeix alguna fruita més.\n",
    "Quant han costat les peres en total?\n",
    "Quantes fruites hem comprat en total?\n",
    "Quina és la fruita més cara?"
   ]
  },
  {
   "cell_type": "code",
   "execution_count": 17,
   "id": "017a7f86",
   "metadata": {},
   "outputs": [
    {
     "name": "stdout",
     "output_type": "stream",
     "text": [
      "afegim una fruita mes {'Pomes': {'Qty': 5, '€': 0.42}, 'Peres': {'Qty': 3, '€': 0.66}, 'banana': 4, '€': 0.52}\n"
     ]
    }
   ],
   "source": [
    "compra = { \"Pomes\" : {\"Qty\": 5, \"€\": 0.42}, \n",
    "          \"Peres\" : {\"Qty\": 3, \"€\": 0.66}, } \n",
    "\n",
    "afegeix = {\"banana\":4 , \"€\": 0.52}\n",
    "compra.update(afegeix)\n",
    "\n",
    "print(\"afegim una fruita mes\", compra)"
   ]
  },
  {
   "cell_type": "code",
   "execution_count": 18,
   "id": "580519b7",
   "metadata": {},
   "outputs": [
    {
     "name": "stdout",
     "output_type": "stream",
     "text": [
      "Quant han costat les peres en total? 1.98\n"
     ]
    }
   ],
   "source": [
    "total_preu_peres = compra[\"Peres\"][\"Qty\"] * compra[\"Peres\"][\"€\"]\n",
    "\n",
    "print(\"Quant han costat les peres en total?\", total_preu_peres )"
   ]
  },
  {
   "cell_type": "code",
   "execution_count": 27,
   "id": "b87e9423",
   "metadata": {},
   "outputs": [
    {
     "name": "stdout",
     "output_type": "stream",
     "text": [
      "Quantes fruites hem comprat en total? 12\n"
     ]
    }
   ],
   "source": [
    "total_fruites = sum(fruita[\"Qty\"] for fruita in compra.values())\n",
    "\n",
    "print(\"Quantes fruites hem comprat en total?\", total_fruites)"
   ]
  },
  {
   "cell_type": "code",
   "execution_count": 28,
   "id": "3fe80845",
   "metadata": {},
   "outputs": [
    {
     "name": "stdout",
     "output_type": "stream",
     "text": [
      "Quina és la fruita més cara? Peres\n"
     ]
    }
   ],
   "source": [
    "fruita_mes_cara = max(compra, key=lambda fruita: compra[fruita][\"€\"])\n",
    "\n",
    "print(\"Quina és la fruita més cara?\", fruita_mes_cara)"
   ]
  },
  {
   "cell_type": "code",
   "execution_count": null,
   "id": "6a18b282",
   "metadata": {},
   "outputs": [],
   "source": []
  }
 ],
 "metadata": {
  "kernelspec": {
   "display_name": "Python 3 (ipykernel)",
   "language": "python",
   "name": "python3"
  },
  "language_info": {
   "codemirror_mode": {
    "name": "ipython",
    "version": 3
   },
   "file_extension": ".py",
   "mimetype": "text/x-python",
   "name": "python",
   "nbconvert_exporter": "python",
   "pygments_lexer": "ipython3",
   "version": "3.11.5"
  }
 },
 "nbformat": 4,
 "nbformat_minor": 5
}
